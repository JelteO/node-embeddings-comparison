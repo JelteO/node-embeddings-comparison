{
 "cells": [
  {
   "cell_type": "markdown",
   "id": "b109892d",
   "metadata": {},
   "source": [
    "# Multi-Label Classification Experiment\n",
    "\n",
    "This notebook evaluates the performance of **Node2Vec**, **GraphSAGE**, and **GAT** models on multi-label classification tasks using three datasets: **PPI**, **Wikipedia**, and **BlogCatalog**. The models are assessed using the **F1 Score** metric. The goal is to understand how different graph embedding techniques perform on networks with multiple labels per node.\n",
    "\n",
    "## Import Libraries"
   ]
  },
  {
   "cell_type": "code",
   "execution_count": 1,
   "id": "6a2b51fc",
   "metadata": {},
   "outputs": [
    {
     "name": "stdout",
     "output_type": "stream",
     "text": [
      "CUDA Available: False\n",
      "MPS Available: True\n",
      "Device: cpu\n"
     ]
    }
   ],
   "source": [
    "import scipy.io\n",
    "import networkx as nx\n",
    "import numpy as np\n",
    "import pandas as pd\n",
    "import matplotlib.pyplot as plt\n",
    "\n",
    "from sklearn.model_selection import train_test_split\n",
    "from sklearn.metrics import f1_score\n",
    "from sklearn.linear_model import LogisticRegression\n",
    "from node2vec import Node2Vec\n",
    "from scipy.sparse import save_npz, load_npz\n",
    "\n",
    "import torch\n",
    "from torch_geometric.utils import from_scipy_sparse_matrix\n",
    "from torch_geometric.data import Data\n",
    "from torch_geometric.nn import SAGEConv, GATConv\n",
    "\n",
    "device = torch.device('cpu')\n",
    "print(\"CUDA Available:\", torch.cuda.is_available())\n",
    "print(\"MPS Available:\", torch.backends.mps.is_available())\n",
    "print(\"Device:\", device)\n",
    "\n",
    "PYTORCH_ENABLE_MPS_FALLBACK = 1"
   ]
  },
  {
   "cell_type": "markdown",
   "id": "e1c67b91",
   "metadata": {},
   "source": [
    "## Data Loading & Preprocessing\n",
    "### Helper Functions for Loading Data"
   ]
  },
  {
   "cell_type": "code",
   "execution_count": 2,
   "id": "2086d7e4",
   "metadata": {},
   "outputs": [],
   "source": [
    "def load_mat_data(file_path, key):\n",
    "    \"\"\"Load .mat file and extract adjacency matrix\"\"\"\n",
    "    data = scipy.io.loadmat(file_path)\n",
    "    if key in data:\n",
    "        return data[key]\n",
    "    else:\n",
    "        raise KeyError(f\"Key '{key}' not found in .mat file\")\n",
    "\n",
    "def load_csv_data(edges_file, group_edges_file):\n",
    "    \"\"\"Load edge list and group memberships for BlogCatalog dataset\"\"\"\n",
    "    edges = pd.read_csv(edges_file, header=None, names=['source', 'target'])\n",
    "    group_edges = pd.read_csv(group_edges_file, header=None, names=['node_id', 'group_id'])\n",
    "    return edges, group_edges"
   ]
  },
  {
   "cell_type": "markdown",
   "id": "5be7aea1",
   "metadata": {},
   "source": [
    "### Graph Creation and Label Preparation"
   ]
  },
  {
   "cell_type": "code",
   "execution_count": 3,
   "id": "4ba22bff",
   "metadata": {},
   "outputs": [],
   "source": [
    "def create_graph_from_edges(edges):\n",
    "    \"\"\"Create NetworkX graph from edge list.\"\"\"\n",
    "    graph = nx.Graph()\n",
    "    graph.add_edges_from(edges.values)\n",
    "    return graph\n",
    "\n",
    "def prepare_labels(group_edges, num_nodes, num_groups):\n",
    "    \"\"\"Create a multi-label matrix for nodes.\"\"\"\n",
    "    labels = np.zeros((num_nodes, num_groups))\n",
    "    for _, row in group_edges.iterrows():\n",
    "        node_idx = row['node_id'] - 1  # Convert to zero-based index\n",
    "        group_idx = row['group_id'] - 1\n",
    "        labels[node_idx, group_idx] = 1\n",
    "    return labels"
   ]
  },
  {
   "cell_type": "markdown",
   "id": "50513163",
   "metadata": {},
   "source": [
    "### Save Processed Data"
   ]
  },
  {
   "cell_type": "code",
   "execution_count": 4,
   "id": "ea16fda0",
   "metadata": {},
   "outputs": [],
   "source": [
    "def save_data(adj_matrix, labels, adj_file, labels_file):\n",
    "    \"\"\"Save adjacency matrix and labels.\"\"\"\n",
    "    save_npz(adj_file, adj_matrix)\n",
    "    np.save(labels_file, labels)\n",
    "    print(f\"Saved adjacency matrix to {adj_file}\")\n",
    "    print(f\"Saved labels to {labels_file}\")"
   ]
  },
  {
   "cell_type": "markdown",
   "id": "0b9c1dc4",
   "metadata": {},
   "source": [
    "## Dataset Processing\n",
    "### File Paths"
   ]
  },
  {
   "cell_type": "code",
   "execution_count": 5,
   "id": "6cdaf8bb",
   "metadata": {},
   "outputs": [],
   "source": [
    "# PPI Dataset\n",
    "ppi_file = './datasets/PPI/Homo_sapiens.mat'\n",
    "processed_ppi_adj_file = './datasets/PPI/ppi_processed_adjacency_matrix.npz'\n",
    "processed_ppi_labels_file = './datasets/PPI/ppi_processed_labels.npy'\n",
    "\n",
    "# Wikipedia Dataset\n",
    "wikipedia_file = './datasets/Wikipedia/POS.mat'\n",
    "processed_wikipedia_adj_file = './datasets/Wikipedia/wikipedia_processed_adjacency_matrix.npz'\n",
    "processed_wikipedia_labels_file = './datasets/Wikipedia/wikipedia_processed_labels.npy'\n",
    "\n",
    "# BlogCatalog Dataset\n",
    "edges_file = './datasets/BlogCatalog/data/edges.csv'\n",
    "group_edges_file = './datasets/BlogCatalog/data/group-edges.csv'\n",
    "processed_blogcatalog_adj_file = './datasets/BlogCatalog/data/blogcatalog_processed_adjacency_matrix.npz'\n",
    "processed_blogcatalog_labels_file = './datasets/BlogCatalog/data/blogcatalog_processed_labels.npy'"
   ]
  },
  {
   "cell_type": "markdown",
   "id": "02c45247",
   "metadata": {},
   "source": [
    "### Process and Save Datasets"
   ]
  },
  {
   "cell_type": "code",
   "execution_count": 6,
   "id": "ec2283be",
   "metadata": {},
   "outputs": [
    {
     "name": "stdout",
     "output_type": "stream",
     "text": [
      "Processing PPI dataset...\n",
      "Saved adjacency matrix to ./datasets/PPI/ppi_processed_adjacency_matrix.npz\n",
      "Saved labels to ./datasets/PPI/ppi_processed_labels.npy\n",
      "Processing Wikipedia dataset...\n",
      "Saved adjacency matrix to ./datasets/Wikipedia/wikipedia_processed_adjacency_matrix.npz\n",
      "Saved labels to ./datasets/Wikipedia/wikipedia_processed_labels.npy\n",
      "Processing BlogCatalog dataset...\n",
      "Saved adjacency matrix to ./datasets/BlogCatalog/data/blogcatalog_processed_adjacency_matrix.npz\n",
      "Saved labels to ./datasets/BlogCatalog/data/blogcatalog_processed_labels.npy\n"
     ]
    }
   ],
   "source": [
    "# PPI Dataset\n",
    "print(\"Processing PPI dataset...\")\n",
    "adj_matrix_ppi = load_mat_data(ppi_file, 'network')\n",
    "labels_ppi = load_mat_data(ppi_file, 'group').toarray()\n",
    "save_data(adj_matrix_ppi, labels_ppi, processed_ppi_adj_file, processed_ppi_labels_file)\n",
    "\n",
    "# Wikipedia Dataset\n",
    "print(\"Processing Wikipedia dataset...\")\n",
    "adj_matrix_wikipedia = load_mat_data(wikipedia_file, 'network')\n",
    "labels_wikipedia = load_mat_data(wikipedia_file, 'group').toarray()\n",
    "save_data(adj_matrix_wikipedia, labels_wikipedia, processed_wikipedia_adj_file, processed_wikipedia_labels_file)\n",
    "\n",
    "# BlogCatalog Dataset\n",
    "print(\"Processing BlogCatalog dataset...\")\n",
    "edges, group_edges = load_csv_data(edges_file, group_edges_file)\n",
    "g_blogcatalog = create_graph_from_edges(edges)\n",
    "g_blogcatalog.remove_edges_from(nx.selfloop_edges(g_blogcatalog))\n",
    "largest_cc = max(nx.connected_components(g_blogcatalog), key=len)\n",
    "g_blogcatalog = g_blogcatalog.subgraph(largest_cc).copy()\n",
    "adj_matrix_blogcatalog = nx.to_scipy_sparse_array(g_blogcatalog, format='csr')\n",
    "num_nodes_blogcatalog = g_blogcatalog.number_of_nodes()\n",
    "num_groups_blogcatalog = group_edges['group_id'].max()\n",
    "labels_blogcatalog = prepare_labels(group_edges, num_nodes_blogcatalog, num_groups_blogcatalog)\n",
    "save_data(adj_matrix_blogcatalog, labels_blogcatalog, processed_blogcatalog_adj_file, processed_blogcatalog_labels_file)"
   ]
  },
  {
   "cell_type": "markdown",
   "id": "66a4dc0d",
   "metadata": {},
   "source": [
    "## Model Training and Evaluation\n",
    "### Node2Vec Model"
   ]
  },
  {
   "cell_type": "code",
   "execution_count": 7,
   "id": "8a923dd7",
   "metadata": {},
   "outputs": [],
   "source": [
    "def generate_node2vec_embeddings(graph, dimensions=128, walk_length=80, num_walks=10, workers=4):\n",
    "    \"\"\"Generate Node2Vec embeddings.\"\"\"\n",
    "    node2vec = Node2Vec(graph, dimensions=dimensions, walk_length=walk_length, num_walks=num_walks, workers=workers)\n",
    "    model = node2vec.fit(window=10, min_count=1, batch_words=4)\n",
    "    return model.wv.vectors"
   ]
  },
  {
   "cell_type": "markdown",
   "id": "cdbdeb5a",
   "metadata": {},
   "source": [
    "### Train and Evaluate Classifier"
   ]
  },
  {
   "cell_type": "code",
   "execution_count": 8,
   "id": "8ab1f809",
   "metadata": {},
   "outputs": [],
   "source": [
    "def load_graph_and_labels(adj_file, labels_file):\n",
    "    \"\"\"Load a graph and corresponding labels from saved files.\"\"\"\n",
    "    adj_matrix = load_npz(adj_file)\n",
    "    labels = np.load(labels_file)\n",
    "    graph = nx.Graph(adj_matrix)\n",
    "    return graph, labels\n",
    "\n",
    "def train_classifier(X, y, test_size=0.3):\n",
    "    \"\"\"Train a logistic regression classifier.\"\"\"\n",
    "    X_train, X_test, y_train, y_test = train_test_split(X, y, test_size=test_size, random_state=42)\n",
    "    clf = LogisticRegression(max_iter=1000, random_state=42)\n",
    "    clf.fit(X_train, y_train)\n",
    "    return clf, X_test, y_test\n",
    "\n",
    "def evaluate_classifier(clf, X_test, y_test):\n",
    "    \"\"\"Evaluate the classifier and return the F1 score.\"\"\"\n",
    "    y_pred = clf.predict(X_test)\n",
    "    f1 = f1_score(y_test, y_pred, average=\"weighted\")\n",
    "    return f1\n",
    "\n",
    "def process_and_evaluate_node2vec(dataset_name, adj_file, labels_file):\n",
    "    \"\"\"Process a dataset with Node2Vec, train, and evaluate a classifier.\"\"\"\n",
    "    print(f\"Processing {dataset_name} dataset with Node2Vec...\")\n",
    "    \n",
    "    # Load the graph and labels\n",
    "    graph, labels = load_graph_and_labels(adj_file, labels_file)\n",
    "    \n",
    "    # Generate Node2Vec embeddings\n",
    "    embeddings = generate_node2vec_embeddings(graph, walk_length=20, num_walks=5, workers=5)\n",
    "    \n",
    "    # Convert multi-label matrix to single-class labels (argmax for simplicity)\n",
    "    y = labels.argmax(axis=1)\n",
    "    \n",
    "    # Train and evaluate classifier\n",
    "    clf, X_test, y_test = train_classifier(embeddings, y)\n",
    "    f1 = evaluate_classifier(clf, X_test, y_test)\n",
    "    \n",
    "    print(f\"{dataset_name} F1 Score (Node2Vec): {f1:.4f}\")\n",
    "    return f1"
   ]
  },
  {
   "cell_type": "markdown",
   "id": "92f38a84",
   "metadata": {},
   "source": [
    "### Visualization Function"
   ]
  },
  {
   "cell_type": "code",
   "execution_count": 9,
   "id": "277c67f7",
   "metadata": {},
   "outputs": [],
   "source": [
    "def visualize_results2(results):\n",
    "    \"\"\"Visualize F1 scores across datasets and algorithms with enhanced styling.\"\"\"\n",
    "    datasets = list(results.keys())\n",
    "    algorithms = list(results[datasets[0]].keys())\n",
    "    scores = np.array([[results[dataset][alg] for alg in algorithms] for dataset in datasets])\n",
    "    x = np.arange(len(datasets))\n",
    "    width = 0.25\n",
    "    colors = ['#6C5B7B', '#C06C84', '#355C7D']\n",
    "\n",
    "    plt.figure(figsize=(12, 7))\n",
    "    plt.style.use('ggplot')\n",
    "    for i, (alg, color) in enumerate(zip(algorithms, colors)):\n",
    "        plt.bar(x + i * width, scores[:, i], width, label=alg, color=color, edgecolor='black', alpha=0.85)\n",
    "        for j, score in enumerate(scores[:, i]):\n",
    "            plt.text(x[j] + i * width, score + 0.01, f\"{score:.2f}\", ha='center', va='bottom', fontsize=10, fontweight='bold')\n",
    "\n",
    "    plt.title('Comparative Analysis of F1 Scores for Multi-Label Classification Models', fontsize=18, fontweight='bold')\n",
    "    plt.xlabel('Dataset', fontsize=14)\n",
    "    plt.ylabel('F1 Score', fontsize=14)\n",
    "    plt.xticks(x + width, datasets, fontsize=12)\n",
    "    plt.legend(title='Model', fontsize=12, title_fontsize=14)\n",
    "    plt.grid(axis='y', linestyle='--', alpha=0.6)\n",
    "    plt.ylim(0, 1.05)\n",
    "    plt.tight_layout()\n",
    "    plt.show()"
   ]
  },
  {
   "cell_type": "markdown",
   "id": "a8732fb8",
   "metadata": {},
   "source": [
    "## GNN Models: GraphSAGE and GAT\n",
    "### Graph Data Loading and Preparation for PyTorch Geometric"
   ]
  },
  {
   "cell_type": "code",
   "execution_count": 10,
   "id": "e7fad404",
   "metadata": {},
   "outputs": [],
   "source": [
    "def create_pyg_data(adj_file, labels_file):\n",
    "    \"\"\"Create PyTorch Geometric data object with train-test split.\"\"\"\n",
    "    adj_matrix = load_npz(adj_file)\n",
    "    edge_index, _ = from_scipy_sparse_matrix(adj_matrix)\n",
    "    labels = np.load(labels_file)\n",
    "    y = labels.argmax(axis=1)\n",
    "\n",
    "    # Normalize labels to ensure sequential values starting from 0\n",
    "    unique_labels = np.unique(y)\n",
    "    label_map = {label: idx for idx, label in enumerate(unique_labels)}\n",
    "    y = np.array([label_map[label] for label in y], dtype=np.int64)\n",
    "\n",
    "    x = torch.eye(labels.shape[0]).to(device)  # Identity matrix as features\n",
    "    data = Data(x=x, edge_index=edge_index.to(device), y=torch.tensor(y, dtype=torch.long).to(device))\n",
    "\n",
    "    # Split indices for train and test\n",
    "    num_nodes = data.x.size(0)\n",
    "    indices = np.arange(num_nodes)\n",
    "    train_idx, test_idx = train_test_split(indices, test_size=0.3, random_state=42)\n",
    "    data.train_mask = torch.tensor(train_idx, dtype=torch.long).to(device)\n",
    "    data.test_mask = torch.tensor(test_idx, dtype=torch.long).to(device)\n",
    "\n",
    "    return data"
   ]
  },
  {
   "cell_type": "markdown",
   "id": "14a418d4",
   "metadata": {},
   "source": [
    "### GNN Model Definition"
   ]
  },
  {
   "cell_type": "code",
   "execution_count": 11,
   "id": "4a5c5fed",
   "metadata": {},
   "outputs": [],
   "source": [
    "class GNN(torch.nn.Module):\n",
    "    def __init__(self, input_dim, hidden_dim, output_dim, conv_layer, **kwargs):\n",
    "        super(GNN, self).__init__()\n",
    "        self.conv1 = conv_layer(input_dim, hidden_dim, **kwargs)\n",
    "        self.conv2 = conv_layer(hidden_dim, output_dim, **kwargs)\n",
    "        self.relu = torch.nn.ReLU()\n",
    "\n",
    "    def forward(self, x, edge_index):\n",
    "        x = self.conv1(x, edge_index)\n",
    "        x = self.relu(x)\n",
    "        x = self.conv2(x, edge_index)\n",
    "        return x"
   ]
  },
  {
   "cell_type": "markdown",
   "id": "d79227e3",
   "metadata": {},
   "source": [
    "### Train and Evaluate GNN Model"
   ]
  },
  {
   "cell_type": "code",
   "execution_count": 12,
   "id": "ab06c9f0",
   "metadata": {},
   "outputs": [],
   "source": [
    "def train_gnn_model(model, data, epochs=200, lr=0.01):\n",
    "    \"\"\"Train a GNN model using only the training set.\"\"\"\n",
    "    model = model.to(device)\n",
    "    data = data.to(device)\n",
    "\n",
    "    optimizer = torch.optim.Adam(model.parameters(), lr=lr)\n",
    "    criterion = torch.nn.CrossEntropyLoss()\n",
    "\n",
    "    model.train()\n",
    "    for epoch in range(epochs):\n",
    "        optimizer.zero_grad()\n",
    "        out = model(data.x, data.edge_index)\n",
    "        loss = criterion(out[data.train_mask], data.y[data.train_mask])\n",
    "        loss.backward()\n",
    "        optimizer.step()\n",
    "\n",
    "    return model\n",
    "\n",
    "def evaluate_gnn_model(model, data):\n",
    "    \"\"\"Evaluate a trained GNN model using only the test set.\"\"\"\n",
    "    model = model.to(device)\n",
    "    data = data.to(device)\n",
    "\n",
    "    model.eval()\n",
    "    with torch.no_grad():\n",
    "        logits = model(data.x, data.edge_index)\n",
    "        y_pred = logits[data.test_mask].argmax(dim=1).cpu().numpy()\n",
    "        y_true = data.y[data.test_mask].cpu().numpy()\n",
    "        f1 = f1_score(y_true, y_pred, average='weighted')\n",
    "    return f1"
   ]
  },
  {
   "cell_type": "markdown",
   "id": "c10e6c22",
   "metadata": {},
   "source": [
    "### Process and Evaluate GNN Models"
   ]
  },
  {
   "cell_type": "code",
   "execution_count": 13,
   "id": "54c88ee3",
   "metadata": {},
   "outputs": [],
   "source": [
    "def process_and_evaluate_gnn(dataset_name, adj_file, labels_file, conv_layer, **model_kwargs):\n",
    "    \"\"\"Process a dataset, train, and evaluate a GNN model.\"\"\"\n",
    "    print(f\"Processing {dataset_name} dataset with {conv_layer.__name__}...\")\n",
    "    data = create_pyg_data(adj_file, labels_file)\n",
    "\n",
    "    input_dim = data.x.size(1)\n",
    "    output_dim = len(data.y.unique())\n",
    "    model = GNN(input_dim, 32, output_dim, conv_layer, **model_kwargs)\n",
    "\n",
    "    model = train_gnn_model(model, data)\n",
    "    f1 = evaluate_gnn_model(model, data)\n",
    "    print(f\"{dataset_name} F1 Score ({conv_layer.__name__}): {f1}\")\n",
    "    return f1"
   ]
  },
  {
   "cell_type": "markdown",
   "id": "31da8021",
   "metadata": {},
   "source": [
    "## Run Experiments\n",
    "### Initialize Results Dictionary"
   ]
  },
  {
   "cell_type": "code",
   "execution_count": 14,
   "id": "5073d6f7",
   "metadata": {},
   "outputs": [],
   "source": [
    "results = {\"PPI\": {}, \"Wikipedia\": {}, \"BlogCatalog\": {}}"
   ]
  },
  {
   "cell_type": "markdown",
   "id": "84e8fd38",
   "metadata": {},
   "source": [
    "### Run Node2Vec Experiment"
   ]
  },
  {
   "cell_type": "code",
   "execution_count": 15,
   "id": "e1016cc7",
   "metadata": {},
   "outputs": [
    {
     "name": "stdout",
     "output_type": "stream",
     "text": [
      "Processing PPI dataset with Node2Vec...\n"
     ]
    },
    {
     "data": {
      "application/vnd.jupyter.widget-view+json": {
       "model_id": "191dd1c029f54d70bd02dd7d40fc8c0c",
       "version_major": 2,
       "version_minor": 0
      },
      "text/plain": [
       "Computing transition probabilities:   0%|          | 0/3890 [00:00<?, ?it/s]"
      ]
     },
     "metadata": {},
     "output_type": "display_data"
    },
    {
     "name": "stderr",
     "output_type": "stream",
     "text": [
      "Generating walks (CPU: 1): 100%|██████████| 1/1 [00:00<00:00,  2.72it/s]\n",
      "Generating walks (CPU: 2): 100%|██████████| 1/1 [00:00<00:00,  2.57it/s]\n",
      "Generating walks (CPU: 3): 100%|██████████| 1/1 [00:00<00:00,  2.73it/s]\n",
      "Generating walks (CPU: 4): 100%|██████████| 1/1 [00:00<00:00,  2.83it/s]\n",
      "Generating walks (CPU: 5): 100%|██████████| 1/1 [00:00<00:00,  2.98it/s]\n"
     ]
    },
    {
     "name": "stdout",
     "output_type": "stream",
     "text": [
      "PPI F1 Score (Node2Vec): 0.0304\n",
      "Processing Wikipedia dataset with Node2Vec...\n"
     ]
    },
    {
     "data": {
      "application/vnd.jupyter.widget-view+json": {
       "model_id": "12ce165f5b104528a3cbacb8c6d8f574",
       "version_major": 2,
       "version_minor": 0
      },
      "text/plain": [
       "Computing transition probabilities:   0%|          | 0/4777 [00:00<?, ?it/s]"
      ]
     },
     "metadata": {},
     "output_type": "display_data"
    },
    {
     "name": "stderr",
     "output_type": "stream",
     "text": [
      "Generating walks (CPU: 1): 100%|██████████| 1/1 [00:04<00:00,  4.44s/it]\n",
      "Generating walks (CPU: 2): 100%|██████████| 1/1 [00:04<00:00,  4.32s/it]\n",
      "Generating walks (CPU: 3): 100%|██████████| 1/1 [00:04<00:00,  4.17s/it]\n",
      "Generating walks (CPU: 4): 100%|██████████| 1/1 [00:03<00:00,  3.98s/it]\n",
      "Generating walks (CPU: 5): 100%|██████████| 1/1 [00:03<00:00,  3.80s/it]\n"
     ]
    },
    {
     "name": "stdout",
     "output_type": "stream",
     "text": [
      "Wikipedia F1 Score (Node2Vec): 0.3194\n",
      "Processing BlogCatalog dataset with Node2Vec...\n"
     ]
    },
    {
     "data": {
      "application/vnd.jupyter.widget-view+json": {
       "model_id": "1edd4e1b39ec4c0bada550055b4965ee",
       "version_major": 2,
       "version_minor": 0
      },
      "text/plain": [
       "Computing transition probabilities:   0%|          | 0/10312 [00:00<?, ?it/s]"
      ]
     },
     "metadata": {},
     "output_type": "display_data"
    },
    {
     "name": "stderr",
     "output_type": "stream",
     "text": [
      "Generating walks (CPU: 1): 100%|██████████| 1/1 [00:06<00:00,  6.66s/it]\n",
      "Generating walks (CPU: 2): 100%|██████████| 1/1 [00:06<00:00,  6.72s/it]\n",
      "Generating walks (CPU: 3): 100%|██████████| 1/1 [00:06<00:00,  6.60s/it]\n",
      "Generating walks (CPU: 4): 100%|██████████| 1/1 [00:06<00:00,  6.72s/it]\n",
      "Generating walks (CPU: 5): 100%|██████████| 1/1 [00:05<00:00,  5.18s/it]\n"
     ]
    },
    {
     "name": "stdout",
     "output_type": "stream",
     "text": [
      "BlogCatalog F1 Score (Node2Vec): 0.0478\n"
     ]
    }
   ],
   "source": [
    "# Node2Vec\n",
    "for dataset_name, (adj_file, labels_file) in zip(\n",
    "    [\"PPI\", \"Wikipedia\", \"BlogCatalog\"],\n",
    "    [\n",
    "        (processed_ppi_adj_file, processed_ppi_labels_file),\n",
    "        (processed_wikipedia_adj_file, processed_wikipedia_labels_file),\n",
    "        (processed_blogcatalog_adj_file, processed_blogcatalog_labels_file),\n",
    "    ]\n",
    "):\n",
    "    results[dataset_name][\"Node2Vec\"] = process_and_evaluate_node2vec(\n",
    "        dataset_name, adj_file, labels_file\n",
    "    )\n"
   ]
  },
  {
   "cell_type": "markdown",
   "id": "730b9266",
   "metadata": {},
   "source": [
    "### Run GraphSAGE Experiment"
   ]
  },
  {
   "cell_type": "code",
   "execution_count": 16,
   "id": "c41a7005",
   "metadata": {},
   "outputs": [
    {
     "name": "stdout",
     "output_type": "stream",
     "text": [
      "Processing PPI dataset with SAGEConv...\n",
      "PPI F1 Score (SAGEConv): 0.08891910444146633\n",
      "Processing Wikipedia dataset with SAGEConv...\n",
      "Wikipedia F1 Score (SAGEConv): 0.35868950284361895\n",
      "Processing BlogCatalog dataset with SAGEConv...\n",
      "BlogCatalog F1 Score (SAGEConv): 0.05669232801463675\n"
     ]
    }
   ],
   "source": [
    "# GraphSAGE\n",
    "for dataset_name, (adj_file, labels_file) in zip(\n",
    "    [\"PPI\", \"Wikipedia\", \"BlogCatalog\"],\n",
    "    [(processed_ppi_adj_file, processed_ppi_labels_file), (processed_wikipedia_adj_file, processed_wikipedia_labels_file), (processed_blogcatalog_adj_file, processed_blogcatalog_labels_file)]\n",
    "):\n",
    "    results[dataset_name][\"GraphSAGE\"] = process_and_evaluate_gnn(\n",
    "        dataset_name, adj_file, labels_file, SAGEConv\n",
    "    )"
   ]
  },
  {
   "cell_type": "markdown",
   "id": "bd8b14be",
   "metadata": {},
   "source": [
    "### Run GAT Experiment"
   ]
  },
  {
   "cell_type": "code",
   "execution_count": 17,
   "id": "86e874a0",
   "metadata": {},
   "outputs": [
    {
     "name": "stdout",
     "output_type": "stream",
     "text": [
      "Processing PPI dataset with GATConv...\n",
      "PPI F1 Score (GATConv): 0.11098448825194399\n",
      "Processing Wikipedia dataset with GATConv...\n",
      "Wikipedia F1 Score (GATConv): 0.3128120555637768\n",
      "Processing BlogCatalog dataset with GATConv...\n",
      "BlogCatalog F1 Score (GATConv): 0.05716237321279703\n"
     ]
    }
   ],
   "source": [
    "# GAT\n",
    "for dataset_name, (adj_file, labels_file) in zip(\n",
    "    [\"PPI\", \"Wikipedia\", \"BlogCatalog\"],\n",
    "    [(processed_ppi_adj_file, processed_ppi_labels_file), (processed_wikipedia_adj_file, processed_wikipedia_labels_file), (processed_blogcatalog_adj_file, processed_blogcatalog_labels_file)]\n",
    "):\n",
    "    results[dataset_name][\"GAT\"] = process_and_evaluate_gnn(\n",
    "        dataset_name, adj_file, labels_file, GATConv\n",
    "    )"
   ]
  },
  {
   "cell_type": "code",
   "execution_count": 18,
   "id": "855760df",
   "metadata": {},
   "outputs": [
    {
     "name": "stdout",
     "output_type": "stream",
     "text": [
      "Results saved to results_MLClassification.csv\n"
     ]
    }
   ],
   "source": [
    "# Convert results to a DataFrame and save to CSV\n",
    "results_df = pd.DataFrame([\n",
    "    {\"Dataset\": dataset, \"Model\": model, \"F1_Score\": score}\n",
    "    for dataset, models in results.items()\n",
    "    for model, score in models.items()\n",
    "])\n",
    "\n",
    "results_df.to_csv(\"results_MLClassification.csv\", index=False)\n",
    "print(\"Results saved to results_MLClassification.csv\")"
   ]
  },
  {
   "cell_type": "code",
   "execution_count": 19,
   "id": "212f8de0",
   "metadata": {},
   "outputs": [
    {
     "name": "stdout",
     "output_type": "stream",
     "text": [
      "Results loaded from results_MLClassification.csv\n"
     ]
    }
   ],
   "source": [
    "# Load results from CSV\n",
    "loaded_results_df = pd.read_csv(\"results_MLClassification.csv\")\n",
    "\n",
    "# Convert DataFrame back to the original nested dictionary structure\n",
    "loaded_results = {}\n",
    "for _, row in loaded_results_df.iterrows():\n",
    "    dataset = row[\"Dataset\"]\n",
    "    model = row[\"Model\"]\n",
    "    score = row[\"F1_Score\"]\n",
    "    if dataset not in loaded_results:\n",
    "        loaded_results[dataset] = {}\n",
    "    loaded_results[dataset][model] = score\n",
    "\n",
    "print(\"Results loaded from results_MLClassification.csv\")"
   ]
  },
  {
   "cell_type": "code",
   "execution_count": 20,
   "id": "9e6550a1",
   "metadata": {},
   "outputs": [
    {
     "data": {
      "text/html": [
       "<div>\n",
       "<style scoped>\n",
       "    .dataframe tbody tr th:only-of-type {\n",
       "        vertical-align: middle;\n",
       "    }\n",
       "\n",
       "    .dataframe tbody tr th {\n",
       "        vertical-align: top;\n",
       "    }\n",
       "\n",
       "    .dataframe thead th {\n",
       "        text-align: right;\n",
       "    }\n",
       "</style>\n",
       "<table border=\"1\" class=\"dataframe\">\n",
       "  <thead>\n",
       "    <tr style=\"text-align: right;\">\n",
       "      <th></th>\n",
       "      <th>Dataset</th>\n",
       "      <th>Model</th>\n",
       "      <th>F1_Score</th>\n",
       "    </tr>\n",
       "  </thead>\n",
       "  <tbody>\n",
       "    <tr>\n",
       "      <th>0</th>\n",
       "      <td>PPI</td>\n",
       "      <td>Node2Vec</td>\n",
       "      <td>0.030363</td>\n",
       "    </tr>\n",
       "    <tr>\n",
       "      <th>1</th>\n",
       "      <td>PPI</td>\n",
       "      <td>GraphSAGE</td>\n",
       "      <td>0.088919</td>\n",
       "    </tr>\n",
       "    <tr>\n",
       "      <th>2</th>\n",
       "      <td>PPI</td>\n",
       "      <td>GAT</td>\n",
       "      <td>0.110984</td>\n",
       "    </tr>\n",
       "    <tr>\n",
       "      <th>3</th>\n",
       "      <td>Wikipedia</td>\n",
       "      <td>Node2Vec</td>\n",
       "      <td>0.319371</td>\n",
       "    </tr>\n",
       "    <tr>\n",
       "      <th>4</th>\n",
       "      <td>Wikipedia</td>\n",
       "      <td>GraphSAGE</td>\n",
       "      <td>0.358690</td>\n",
       "    </tr>\n",
       "    <tr>\n",
       "      <th>5</th>\n",
       "      <td>Wikipedia</td>\n",
       "      <td>GAT</td>\n",
       "      <td>0.312812</td>\n",
       "    </tr>\n",
       "    <tr>\n",
       "      <th>6</th>\n",
       "      <td>BlogCatalog</td>\n",
       "      <td>Node2Vec</td>\n",
       "      <td>0.047800</td>\n",
       "    </tr>\n",
       "    <tr>\n",
       "      <th>7</th>\n",
       "      <td>BlogCatalog</td>\n",
       "      <td>GraphSAGE</td>\n",
       "      <td>0.056692</td>\n",
       "    </tr>\n",
       "    <tr>\n",
       "      <th>8</th>\n",
       "      <td>BlogCatalog</td>\n",
       "      <td>GAT</td>\n",
       "      <td>0.057162</td>\n",
       "    </tr>\n",
       "  </tbody>\n",
       "</table>\n",
       "</div>"
      ],
      "text/plain": [
       "       Dataset      Model  F1_Score\n",
       "0          PPI   Node2Vec  0.030363\n",
       "1          PPI  GraphSAGE  0.088919\n",
       "2          PPI        GAT  0.110984\n",
       "3    Wikipedia   Node2Vec  0.319371\n",
       "4    Wikipedia  GraphSAGE  0.358690\n",
       "5    Wikipedia        GAT  0.312812\n",
       "6  BlogCatalog   Node2Vec  0.047800\n",
       "7  BlogCatalog  GraphSAGE  0.056692\n",
       "8  BlogCatalog        GAT  0.057162"
      ]
     },
     "execution_count": 20,
     "metadata": {},
     "output_type": "execute_result"
    }
   ],
   "source": [
    "loaded_results_df"
   ]
  },
  {
   "cell_type": "markdown",
   "id": "1b4d5c2a",
   "metadata": {},
   "source": [
    "## Visualize Results\n",
    "### Plot the Results"
   ]
  },
  {
   "cell_type": "code",
   "execution_count": 21,
   "id": "3c29f9fe",
   "metadata": {},
   "outputs": [
    {
     "data": {
      "image/png": "[encoded data removed]",
      "text/plain": [
       "<Figure size 1200x700 with 1 Axes>"
      ]
     },
     "metadata": {},
     "output_type": "display_data"
    }
   ],
   "source": [
    "def visualize_results2(results):\n",
    "    \"\"\"Visualize F1 scores across datasets and algorithms with enhanced styling.\"\"\"\n",
    "    datasets = list(results.keys())\n",
    "    algorithms = list(results[datasets[0]].keys())\n",
    "    scores = np.array([[results[dataset][alg] for alg in algorithms] for dataset in datasets])\n",
    "    x = np.arange(len(datasets))\n",
    "    width = 0.25\n",
    "    colors = ['#6C5B7B', '#C06C84', '#355C7D']\n",
    "\n",
    "    plt.figure(figsize=(12, 7))\n",
    "    plt.style.use('ggplot')\n",
    "    for i, (alg, color) in enumerate(zip(algorithms, colors)):\n",
    "        plt.bar(x + i * width, scores[:, i], width, label=alg, color=color, edgecolor='black', alpha=0.85)\n",
    "        for j, score in enumerate(scores[:, i]):\n",
    "            plt.text(x[j] + i * width, score + 0.01, f\"{score:.2f}\", ha='center', va='bottom', fontsize=10, fontweight='bold')\n",
    "\n",
    "    plt.title('Comparative Analysis of F1 Scores for Multi-Label Classification Models', fontsize=18, fontweight='bold')\n",
    "    plt.xlabel('Dataset', fontsize=14)\n",
    "    plt.ylabel('F1 Score', fontsize=14)\n",
    "    plt.xticks(x + width, datasets, fontsize=12)\n",
    "    plt.legend(title='Model', fontsize=12, title_fontsize=14)\n",
    "    plt.grid(axis='y', linestyle='--', alpha=0.6)\n",
    "    plt.ylim(0, 1.05)\n",
    "    plt.tight_layout()\n",
    "    plt.show()\n",
    "\n",
    "visualize_results2(loaded_results)"
   ]
  },
  {
   "cell_type": "markdown",
   "id": "02bb6c33",
   "metadata": {},
   "source": [
    "## 📊 Conclusion\n",
    "\n",
    "In this experiment, we evaluated **Node2Vec**, **GraphSAGE**, and **GAT** on the **PPI**, **Wikipedia**, and **BlogCatalog** datasets for multi-label classification. Here are the key insights:\n",
    "\n",
    "- **Wikipedia Dataset**:\n",
    "  - This dataset produced the best results for all models.\n",
    "  - **GraphSAGE** led with an F1 score of **0.36**, followed by **Node2Vec** (**0.32**) and **GAT** (**0.31**).\n",
    "  - The Wikipedia graph structure appears ideal for these models to capture meaningful relationships.\n",
    "\n",
    "- **PPI Dataset**:\n",
    "  - The models struggled with the PPI dataset, showing low F1 scores.\n",
    "  - **GAT** performed best with **0.11**, while **GraphSAGE** and **Node2Vec** scored **0.09** and **0.03**, respectively.\n",
    "  - The complexity of biological networks makes learning clear patterns challenging.\n",
    "\n",
    "- **BlogCatalog Dataset**:\n",
    "  - All models had difficulty with BlogCatalog, achieving low and similar scores.\n",
    "  - **GraphSAGE** and **GAT** both scored **0.06**, slightly better than **Node2Vec** at **0.05**.\n",
    "  - This suggests that sparsity or community structure complicates classification.\n",
    "\n",
    "### 🔍 Insights\n",
    "\n",
    "- **GraphSAGE** performed consistently well, especially on the Wikipedia dataset.\n",
    "- **GAT** showed promise on the PPI dataset, benefiting from its attention mechanism.\n",
    "- **Node2Vec** served as a baseline but fell behind GNN models, highlighting the advantages of deeper graph structure exploitation.\n",
    "\n",
    "### 🚀 Looking Ahead\n",
    "\n",
    "- **Hyperparameter Tuning**: Adjusting learning rates or embedding dimensions could improve results.\n",
    "- **Richer Features**: Incorporating detailed node features may enhance learning.\n",
    "- **Data Analysis**: Investigating dataset structures like node degrees and clustering may provide insights for boosting performance.\n",
    "\n",
    "These results establish a solid foundation for enhancing multi-label classification across different network types."
   ]
  }
 ],
 "metadata": {
  "kernelspec": {
   "display_name": ".venv",
   "language": "python",
   "name": "python3"
  },
  "language_info": {
   "codemirror_mode": {
    "name": "ipython",
    "version": 3
   },
   "file_extension": ".py",
   "mimetype": "text/x-python",
   "name": "python",
   "nbconvert_exporter": "python",
   "pygments_lexer": "ipython3",
   "version": "3.9.6"
  }
 },
 "nbformat": 4,
 "nbformat_minor": 5
}
